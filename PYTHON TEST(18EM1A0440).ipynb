{
 "cells": [
  {
   "cell_type": "markdown",
   "metadata": {},
   "source": [
    "# 6.CREATE A FUNCTION TO CALCULATE THE AVERAGE OF FIRST N PRIME NUMBERS?"
   ]
  },
  {
   "cell_type": "code",
   "execution_count": 26,
   "metadata": {},
   "outputs": [
    {
     "name": "stdout",
     "output_type": "stream",
     "text": [
      "enter n value:1\n",
      "given number is prime\n"
     ]
    }
   ],
   "source": [
    "n=int(input(\"enter n value:\"))\n",
    "#for i in range(1,n+1):\n",
    "    #print(i)\n",
    "def prime(n):\n",
    "    a=1\n",
    "    if(n%a==0):\n",
    "        print(\"given number is prime\")\n",
    "    else:\n",
    "        print(\"given number is not prime\")\n",
    "prime(n)"
   ]
  },
  {
   "cell_type": "markdown",
   "metadata": {},
   "source": [
    "# 20.CREATE A FUNCTION TO CHECK WHETHER THE GIVEN STRING IS PALINDROME"
   ]
  },
  {
   "cell_type": "code",
   "execution_count": 37,
   "metadata": {},
   "outputs": [
    {
     "name": "stdout",
     "output_type": "stream",
     "text": [
      "enter string:rss\n"
     ]
    },
    {
     "data": {
      "text/plain": [
       "'ssr'"
      ]
     },
     "execution_count": 37,
     "metadata": {},
     "output_type": "execute_result"
    }
   ],
   "source": [
    "s=input(\"enter string:\")\n",
    "def reverse(s):\n",
    "    return s[::-1]\n",
    "def ispalindrome(s):\n",
    "    rev=reverse(s)\n",
    "    if(s==reve):\n",
    "        return \"given string is palindrome\"\n",
    "    else:\n",
    "        print(\"given string is not palindroome\")\n",
    "reverse(s)\n",
    "    "
   ]
  },
  {
   "cell_type": "code",
   "execution_count": null,
   "metadata": {},
   "outputs": [],
   "source": []
  },
  {
   "cell_type": "code",
   "execution_count": null,
   "metadata": {},
   "outputs": [],
   "source": []
  }
 ],
 "metadata": {
  "kernelspec": {
   "display_name": "Python 3",
   "language": "python",
   "name": "python3"
  },
  "language_info": {
   "codemirror_mode": {
    "name": "ipython",
    "version": 3
   },
   "file_extension": ".py",
   "mimetype": "text/x-python",
   "name": "python",
   "nbconvert_exporter": "python",
   "pygments_lexer": "ipython3",
   "version": "3.7.3"
  }
 },
 "nbformat": 4,
 "nbformat_minor": 2
}
